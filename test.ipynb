{
 "cells": [
  {
   "cell_type": "markdown",
   "id": "46a17a7a-a5fa-4b4e-8535-eec2ed5a66eb",
   "metadata": {},
   "source": [
    "<center><h1> Natural Language Processing Project </h1></center>\n"
   ]
  },
  {
   "cell_type": "markdown",
   "id": "6997016b-eb92-437a-93fd-aa542adc1071",
   "metadata": {},
   "source": [
    "Data Science & Machine Learning\n",
    "\n",
    "\n",
    "**Contributors**\n",
    "- Lynette Wangari - lynettewangari26@gmail.com\n",
    "- Jackson Munene - jacmwaniki@gmail.com\n",
    "- Julius Kinyua - juliusczar36@gmail.com\n",
    "- Philip Oluoch - philtonochieng254@gmail.com"
   ]
  },
  {
   "cell_type": "markdown",
   "id": "fda73c2d-0c70-4ccb-a332-fa7a39f4c5f6",
   "metadata": {},
   "source": [
    "# Business Understanding\n",
    "\n",
    "## Overview\n",
    "\n",
    "In today's technologi00cally driven society, social media (especially Twitter) often acts as a central repository for thoughts, feelings, and opinions. Through the use of machine learning and natural language processing, we will identify users who have expressed dissatisfaction with Apple and Google products. The objective is to categorize tweets related to Apple and Google into positive, neutral, and negative sentiments, providing actionable insights for their advertising strategies.\n",
    "\n",
    "In this project, we seek to understanding user sentiments towards Apple and Google products by leveraging Twitter sentiment analysis to gain insights into customer opinions and preferences regarding the products. The project involves collecting twitter data related to reviews of Apple and Google products, followed by preprocessing and sentiment analysis. The insights derived from this analysis will guide in optimizing its product assortment and ensuring a strategic alighnment with customer prefences."
   ]
  },
  {
   "cell_type": "markdown",
   "id": "f7fa67b5-30e7-4d6e-88e7-4eea50a14a31",
   "metadata": {},
   "source": [
    "### Challenges:\n",
    "\n",
    "The lack of a systematic method for analyzing user sentiments on platforms like Twitter impedes data-driven stocking decisions. This project aims to use Twitter sentiment analysis to better understand customer opinions. By gaining insights into these sentiments to enhance stocking decisions, ensuring products are available in line with customer preferences, ultimately boosting overall satisfaction and loyalty.\n",
    "\n",
    "### Business Problem:\n",
    "\n",
    "The primary business problem is to ensure the best possibe experience for customers by accurately prediciting whether a given tweet expresses positive or negative sentiment about Apple or Google products. Misclassifying negative sentiments as positive can lead to misleading insights, which might result in poor strategic decisions.\n"
   ]
  },
  {
   "cell_type": "markdown",
   "id": "f2ce335d-213a-40f9-b22f-c428aaaf3a4f",
   "metadata": {},
   "source": [
    "### Research Questions\n",
    "\n",
    "- What are the main sentiments expressed by customers on Twitter regarding iPhone and Google products?\n",
    "\n",
    "- What factors affect the polarity of tweets related to iPhone and Google products on Twitter?\n",
    "\n",
    "- Which specific features of iPhone and Google products are most commonly praised or criticized by users on Twitter?\n",
    "\n",
    "- Which machine learning model is the most effective for sentiment analysis?"
   ]
  },
  {
   "cell_type": "markdown",
   "id": "bdd3d344-cf11-4eb9-a020-158884a8c61d",
   "metadata": {},
   "source": [
    "## Data Understanding"
   ]
  },
  {
   "cell_type": "markdown",
   "id": "d158a437-1512-434a-acd5-9579477f9af1",
   "metadata": {},
   "source": [
    "- Contributors evaluated tweets about multiple brands and products. The crowd was asked if the tweet expressed positive, negative, or no emotion towards a brand and/or product. If some emotion was expressed they were also asked to say which brand or product was the target of that emotion.\n",
    "\n",
    "- The tweets included were sent out during the South by South West conference, mostly about Google and Apple products that was put together in 2013.\n",
    "\n",
    "- The dataset includes 9,093 rows. There are three columns, the first column includes the tweet text, the second column is the subject of the tweet and third column is the emotion of the tweet.\n",
    "\n",
    "- Data comes from CrowdFlower via data.world.\n",
    "\n",
    "- Human raters rated the sentiment in over 9,000 Tweets as positive, negative, neither or \"can't tell\". \"Can't tell\" really is not of much use to us for this analysis and will be dropped.\n",
    "\n"
   ]
  },
  {
   "cell_type": "markdown",
   "id": "af6e87e4-7966-4daa-8eb1-1ff27d71ac06",
   "metadata": {},
   "source": [
    "##  Data Preparation"
   ]
  },
  {
   "cell_type": "markdown",
   "id": "591d5745-c110-47ba-8d84-fb501c1be814",
   "metadata": {},
   "source": [
    "### Preview the data\n",
    "\n",
    "Let's first import the various libraries we will use in our analysis and preview the data."
   ]
  },
  {
   "cell_type": "code",
   "execution_count": 5,
   "id": "b57438b3-c999-40df-ae79-c6b9cdeb1c93",
   "metadata": {},
   "outputs": [],
   "source": [
    "#Importing Libraries\n",
    "import pandas as pd\n",
    "import numpy as np\n",
    "import re\n",
    "import string\n",
    "from sklearn.feature_extraction.text import TfidfVectorizer\n",
    "from sklearn.model_selection import train_test_split\n",
    "from sklearn.naive_bayes import MultinomialNB\n",
    "from sklearn.svm import LinearSVC\n",
    "from sklearn.metrics import accuracy_score, classification_report, confusion_matrix\n",
    "from sklearn.preprocessing import label_binarize\n",
    "from sklearn.metrics import roc_curve, auc, precision_recall_curve\n",
    "import matplotlib.pyplot as plt\n",
    "import seaborn as sns\n",
    "\n"
   ]
  },
  {
   "cell_type": "code",
   "execution_count": 6,
   "id": "1128740f-5148-4755-b9b6-5e1f50bacd10",
   "metadata": {},
   "outputs": [
    {
     "data": {
      "text/html": [
       "<div>\n",
       "<style scoped>\n",
       "    .dataframe tbody tr th:only-of-type {\n",
       "        vertical-align: middle;\n",
       "    }\n",
       "\n",
       "    .dataframe tbody tr th {\n",
       "        vertical-align: top;\n",
       "    }\n",
       "\n",
       "    .dataframe thead th {\n",
       "        text-align: right;\n",
       "    }\n",
       "</style>\n",
       "<table border=\"1\" class=\"dataframe\">\n",
       "  <thead>\n",
       "    <tr style=\"text-align: right;\">\n",
       "      <th></th>\n",
       "      <th>tweet_text</th>\n",
       "      <th>emotion_in_tweet_is_directed_at</th>\n",
       "      <th>is_there_an_emotion_directed_at_a_brand_or_product</th>\n",
       "    </tr>\n",
       "  </thead>\n",
       "  <tbody>\n",
       "    <tr>\n",
       "      <th>0</th>\n",
       "      <td>.@wesley83 I have a 3G iPhone. After 3 hrs twe...</td>\n",
       "      <td>iPhone</td>\n",
       "      <td>Negative emotion</td>\n",
       "    </tr>\n",
       "    <tr>\n",
       "      <th>1</th>\n",
       "      <td>@jessedee Know about @fludapp ? Awesome iPad/i...</td>\n",
       "      <td>iPad or iPhone App</td>\n",
       "      <td>Positive emotion</td>\n",
       "    </tr>\n",
       "    <tr>\n",
       "      <th>2</th>\n",
       "      <td>@swonderlin Can not wait for #iPad 2 also. The...</td>\n",
       "      <td>iPad</td>\n",
       "      <td>Positive emotion</td>\n",
       "    </tr>\n",
       "    <tr>\n",
       "      <th>3</th>\n",
       "      <td>@sxsw I hope this year's festival isn't as cra...</td>\n",
       "      <td>iPad or iPhone App</td>\n",
       "      <td>Negative emotion</td>\n",
       "    </tr>\n",
       "    <tr>\n",
       "      <th>4</th>\n",
       "      <td>@sxtxstate great stuff on Fri #SXSW: Marissa M...</td>\n",
       "      <td>Google</td>\n",
       "      <td>Positive emotion</td>\n",
       "    </tr>\n",
       "  </tbody>\n",
       "</table>\n",
       "</div>"
      ],
      "text/plain": [
       "                                          tweet_text  \\\n",
       "0  .@wesley83 I have a 3G iPhone. After 3 hrs twe...   \n",
       "1  @jessedee Know about @fludapp ? Awesome iPad/i...   \n",
       "2  @swonderlin Can not wait for #iPad 2 also. The...   \n",
       "3  @sxsw I hope this year's festival isn't as cra...   \n",
       "4  @sxtxstate great stuff on Fri #SXSW: Marissa M...   \n",
       "\n",
       "  emotion_in_tweet_is_directed_at  \\\n",
       "0                          iPhone   \n",
       "1              iPad or iPhone App   \n",
       "2                            iPad   \n",
       "3              iPad or iPhone App   \n",
       "4                          Google   \n",
       "\n",
       "  is_there_an_emotion_directed_at_a_brand_or_product  \n",
       "0                                   Negative emotion  \n",
       "1                                   Positive emotion  \n",
       "2                                   Positive emotion  \n",
       "3                                   Negative emotion  \n",
       "4                                   Positive emotion  "
      ]
     },
     "execution_count": 6,
     "metadata": {},
     "output_type": "execute_result"
    }
   ],
   "source": [
    "# Load the dataset\n",
    "df = pd.read_csv('tweets.csv', encoding='latin1')\n",
    "df.head()"
   ]
  },
  {
   "cell_type": "code",
   "execution_count": null,
   "id": "d10da6b0-7230-4965-b98a-1e36bfa9f179",
   "metadata": {},
   "outputs": [],
   "source": []
  },
  {
   "cell_type": "markdown",
   "id": "c334129c-049c-46d0-9e8c-acfeb160676a",
   "metadata": {},
   "source": [
    "Renaming data columns to simpler forms. \n",
    "Drop null values and duplicates"
   ]
  },
  {
   "cell_type": "code",
   "execution_count": 8,
   "id": "3d0c3b56-f6fc-49ba-992a-a9eca46caaab",
   "metadata": {},
   "outputs": [
    {
     "data": {
      "text/html": [
       "<div>\n",
       "<style scoped>\n",
       "    .dataframe tbody tr th:only-of-type {\n",
       "        vertical-align: middle;\n",
       "    }\n",
       "\n",
       "    .dataframe tbody tr th {\n",
       "        vertical-align: top;\n",
       "    }\n",
       "\n",
       "    .dataframe thead th {\n",
       "        text-align: right;\n",
       "    }\n",
       "</style>\n",
       "<table border=\"1\" class=\"dataframe\">\n",
       "  <thead>\n",
       "    <tr style=\"text-align: right;\">\n",
       "      <th></th>\n",
       "      <th>tweet</th>\n",
       "      <th>brand_product</th>\n",
       "      <th>sentiment</th>\n",
       "    </tr>\n",
       "  </thead>\n",
       "  <tbody>\n",
       "    <tr>\n",
       "      <th>0</th>\n",
       "      <td>.@wesley83 I have a 3G iPhone. After 3 hrs twe...</td>\n",
       "      <td>iPhone</td>\n",
       "      <td>Negative</td>\n",
       "    </tr>\n",
       "    <tr>\n",
       "      <th>1</th>\n",
       "      <td>@jessedee Know about @fludapp ? Awesome iPad/i...</td>\n",
       "      <td>iPad or iPhone App</td>\n",
       "      <td>Positive</td>\n",
       "    </tr>\n",
       "    <tr>\n",
       "      <th>2</th>\n",
       "      <td>@swonderlin Can not wait for #iPad 2 also. The...</td>\n",
       "      <td>iPad</td>\n",
       "      <td>Positive</td>\n",
       "    </tr>\n",
       "    <tr>\n",
       "      <th>3</th>\n",
       "      <td>@sxsw I hope this year's festival isn't as cra...</td>\n",
       "      <td>iPad or iPhone App</td>\n",
       "      <td>Negative</td>\n",
       "    </tr>\n",
       "    <tr>\n",
       "      <th>4</th>\n",
       "      <td>@sxtxstate great stuff on Fri #SXSW: Marissa M...</td>\n",
       "      <td>Google</td>\n",
       "      <td>Positive</td>\n",
       "    </tr>\n",
       "  </tbody>\n",
       "</table>\n",
       "</div>"
      ],
      "text/plain": [
       "                                               tweet       brand_product  \\\n",
       "0  .@wesley83 I have a 3G iPhone. After 3 hrs twe...              iPhone   \n",
       "1  @jessedee Know about @fludapp ? Awesome iPad/i...  iPad or iPhone App   \n",
       "2  @swonderlin Can not wait for #iPad 2 also. The...                iPad   \n",
       "3  @sxsw I hope this year's festival isn't as cra...  iPad or iPhone App   \n",
       "4  @sxtxstate great stuff on Fri #SXSW: Marissa M...              Google   \n",
       "\n",
       "  sentiment  \n",
       "0  Negative  \n",
       "1  Positive  \n",
       "2  Positive  \n",
       "3  Negative  \n",
       "4  Positive  "
      ]
     },
     "execution_count": 8,
     "metadata": {},
     "output_type": "execute_result"
    }
   ],
   "source": [
    "# Preprocess the dataset\n",
    "df.rename(columns={'tweet_text': 'tweet', 'emotion_in_tweet_is_directed_at': 'brand_product', 'is_there_an_emotion_directed_at_a_brand_or_product': 'sentiment'}, inplace=True)\n",
    "dict_sent = {'No emotion toward brand or product': \"No emotion\", 'Positive emotion': 'Positive', 'Negative emotion': 'Negative', \"I can't tell\": 'Invalid'}\n",
    "df['sentiment'] = df['sentiment'].map(dict_sent)\n",
    "df['tweet'].dropna(inplace=True)\n",
    "df.drop_duplicates(inplace=True)\n",
    "df.drop(index=df[df['tweet'].isna()].index, inplace=True)\n",
    "df.head()"
   ]
  },
  {
   "cell_type": "code",
   "execution_count": 9,
   "id": "5aa3e57a-12e7-40bd-a7fb-b60e9e5b67fe",
   "metadata": {},
   "outputs": [
    {
     "data": {
      "text/html": [
       "<div>\n",
       "<style scoped>\n",
       "    .dataframe tbody tr th:only-of-type {\n",
       "        vertical-align: middle;\n",
       "    }\n",
       "\n",
       "    .dataframe tbody tr th {\n",
       "        vertical-align: top;\n",
       "    }\n",
       "\n",
       "    .dataframe thead th {\n",
       "        text-align: right;\n",
       "    }\n",
       "</style>\n",
       "<table border=\"1\" class=\"dataframe\">\n",
       "  <thead>\n",
       "    <tr style=\"text-align: right;\">\n",
       "      <th></th>\n",
       "      <th>tweet</th>\n",
       "      <th>brand_product</th>\n",
       "      <th>sentiment</th>\n",
       "    </tr>\n",
       "  </thead>\n",
       "  <tbody>\n",
       "    <tr>\n",
       "      <th>0</th>\n",
       "      <td>.@wesley83 I have a 3G iPhone. After 3 hrs twe...</td>\n",
       "      <td>iPhone</td>\n",
       "      <td>Negative</td>\n",
       "    </tr>\n",
       "    <tr>\n",
       "      <th>1</th>\n",
       "      <td>@jessedee Know about @fludapp ? Awesome iPad/i...</td>\n",
       "      <td>iPad or iPhone App</td>\n",
       "      <td>Positive</td>\n",
       "    </tr>\n",
       "    <tr>\n",
       "      <th>2</th>\n",
       "      <td>@swonderlin Can not wait for #iPad 2 also. The...</td>\n",
       "      <td>iPad</td>\n",
       "      <td>Positive</td>\n",
       "    </tr>\n",
       "    <tr>\n",
       "      <th>3</th>\n",
       "      <td>@sxsw I hope this year's festival isn't as cra...</td>\n",
       "      <td>iPad or iPhone App</td>\n",
       "      <td>Negative</td>\n",
       "    </tr>\n",
       "    <tr>\n",
       "      <th>4</th>\n",
       "      <td>@sxtxstate great stuff on Fri #SXSW: Marissa M...</td>\n",
       "      <td>Google</td>\n",
       "      <td>Positive</td>\n",
       "    </tr>\n",
       "  </tbody>\n",
       "</table>\n",
       "</div>"
      ],
      "text/plain": [
       "                                               tweet       brand_product  \\\n",
       "0  .@wesley83 I have a 3G iPhone. After 3 hrs twe...              iPhone   \n",
       "1  @jessedee Know about @fludapp ? Awesome iPad/i...  iPad or iPhone App   \n",
       "2  @swonderlin Can not wait for #iPad 2 also. The...                iPad   \n",
       "3  @sxsw I hope this year's festival isn't as cra...  iPad or iPhone App   \n",
       "4  @sxtxstate great stuff on Fri #SXSW: Marissa M...              Google   \n",
       "\n",
       "  sentiment  \n",
       "0  Negative  \n",
       "1  Positive  \n",
       "2  Positive  \n",
       "3  Negative  \n",
       "4  Positive  "
      ]
     },
     "execution_count": 9,
     "metadata": {},
     "output_type": "execute_result"
    }
   ],
   "source": [
    "# Fill missing 'brand_product' values\n",
    "categories = np.array(['iPad', 'Apple', 'iPad', 'iPhone', 'Google', 'Android'])\n",
    "def fill_missing_brand_product(df, categories):\n",
    "    for i, row in df.iterrows():\n",
    "        if pd.isnull(row['brand_product']):\n",
    "            for category in np.concatenate((categories, np.char.lower(categories))):\n",
    "                if category in row['tweet']:\n",
    "                    df.loc[i, 'brand_product'] = category\n",
    "                    break\n",
    "\n",
    "fill_missing_brand_product(df, categories)\n",
    "\n",
    "df.head()"
   ]
  },
  {
   "cell_type": "markdown",
   "id": "eba8c109-a22d-4fd1-b2ae-1021712aec34",
   "metadata": {},
   "source": [
    "Cleaning Data"
   ]
  },
  {
   "cell_type": "code",
   "execution_count": 10,
   "id": "5b181588-72dd-4503-a69a-008681b1efdf",
   "metadata": {},
   "outputs": [
    {
     "data": {
      "text/html": [
       "<div>\n",
       "<style scoped>\n",
       "    .dataframe tbody tr th:only-of-type {\n",
       "        vertical-align: middle;\n",
       "    }\n",
       "\n",
       "    .dataframe tbody tr th {\n",
       "        vertical-align: top;\n",
       "    }\n",
       "\n",
       "    .dataframe thead th {\n",
       "        text-align: right;\n",
       "    }\n",
       "</style>\n",
       "<table border=\"1\" class=\"dataframe\">\n",
       "  <thead>\n",
       "    <tr style=\"text-align: right;\">\n",
       "      <th></th>\n",
       "      <th>tweet</th>\n",
       "      <th>brand_product</th>\n",
       "      <th>sentiment</th>\n",
       "      <th>cleaned_tweet</th>\n",
       "    </tr>\n",
       "  </thead>\n",
       "  <tbody>\n",
       "    <tr>\n",
       "      <th>0</th>\n",
       "      <td>.@wesley83 I have a 3G iPhone. After 3 hrs twe...</td>\n",
       "      <td>iPhone</td>\n",
       "      <td>Negative</td>\n",
       "      <td>wesley83 i have a 3g iphone after 3 hrs tweeti...</td>\n",
       "    </tr>\n",
       "    <tr>\n",
       "      <th>1</th>\n",
       "      <td>@jessedee Know about @fludapp ? Awesome iPad/i...</td>\n",
       "      <td>iPad or iPhone App</td>\n",
       "      <td>Positive</td>\n",
       "      <td>jessedee know about fludapp  awesome ipadiphon...</td>\n",
       "    </tr>\n",
       "    <tr>\n",
       "      <th>2</th>\n",
       "      <td>@swonderlin Can not wait for #iPad 2 also. The...</td>\n",
       "      <td>iPad</td>\n",
       "      <td>Positive</td>\n",
       "      <td>swonderlin can not wait for ipad 2 also they s...</td>\n",
       "    </tr>\n",
       "    <tr>\n",
       "      <th>3</th>\n",
       "      <td>@sxsw I hope this year's festival isn't as cra...</td>\n",
       "      <td>iPad or iPhone App</td>\n",
       "      <td>Negative</td>\n",
       "      <td>sxsw i hope this years festival isnt as crashy...</td>\n",
       "    </tr>\n",
       "    <tr>\n",
       "      <th>4</th>\n",
       "      <td>@sxtxstate great stuff on Fri #SXSW: Marissa M...</td>\n",
       "      <td>Google</td>\n",
       "      <td>Positive</td>\n",
       "      <td>sxtxstate great stuff on fri sxsw marissa maye...</td>\n",
       "    </tr>\n",
       "    <tr>\n",
       "      <th>...</th>\n",
       "      <td>...</td>\n",
       "      <td>...</td>\n",
       "      <td>...</td>\n",
       "      <td>...</td>\n",
       "    </tr>\n",
       "    <tr>\n",
       "      <th>9088</th>\n",
       "      <td>Ipad everywhere. #SXSW {link}</td>\n",
       "      <td>iPad</td>\n",
       "      <td>Positive</td>\n",
       "      <td>ipad everywhere sxsw link</td>\n",
       "    </tr>\n",
       "    <tr>\n",
       "      <th>9089</th>\n",
       "      <td>Wave, buzz... RT @mention We interrupt your re...</td>\n",
       "      <td>google</td>\n",
       "      <td>No emotion</td>\n",
       "      <td>wave buzz rt mention we interrupt your regular...</td>\n",
       "    </tr>\n",
       "    <tr>\n",
       "      <th>9090</th>\n",
       "      <td>Google's Zeiger, a physician never reported po...</td>\n",
       "      <td>Google</td>\n",
       "      <td>No emotion</td>\n",
       "      <td>googles zeiger a physician never reported pote...</td>\n",
       "    </tr>\n",
       "    <tr>\n",
       "      <th>9091</th>\n",
       "      <td>Some Verizon iPhone customers complained their...</td>\n",
       "      <td>iPhone</td>\n",
       "      <td>No emotion</td>\n",
       "      <td>some verizon iphone customers complained their...</td>\n",
       "    </tr>\n",
       "    <tr>\n",
       "      <th>9092</th>\n",
       "      <td>Ï¡Ïàü_ÊÎÒ£Áââ_£â_ÛâRT @...</td>\n",
       "      <td>Google</td>\n",
       "      <td>No emotion</td>\n",
       "      <td>ï¡ïàüêîò£áââ£âûârt ment...</td>\n",
       "    </tr>\n",
       "  </tbody>\n",
       "</table>\n",
       "<p>9070 rows × 4 columns</p>\n",
       "</div>"
      ],
      "text/plain": [
       "                                                  tweet       brand_product  \\\n",
       "0     .@wesley83 I have a 3G iPhone. After 3 hrs twe...              iPhone   \n",
       "1     @jessedee Know about @fludapp ? Awesome iPad/i...  iPad or iPhone App   \n",
       "2     @swonderlin Can not wait for #iPad 2 also. The...                iPad   \n",
       "3     @sxsw I hope this year's festival isn't as cra...  iPad or iPhone App   \n",
       "4     @sxtxstate great stuff on Fri #SXSW: Marissa M...              Google   \n",
       "...                                                 ...                 ...   \n",
       "9088                      Ipad everywhere. #SXSW {link}                iPad   \n",
       "9089  Wave, buzz... RT @mention We interrupt your re...              google   \n",
       "9090  Google's Zeiger, a physician never reported po...              Google   \n",
       "9091  Some Verizon iPhone customers complained their...              iPhone   \n",
       "9092  Ï¡Ïàü_ÊÎÒ£Áââ_£â_ÛâRT @...              Google   \n",
       "\n",
       "       sentiment                                      cleaned_tweet  \n",
       "0       Negative  wesley83 i have a 3g iphone after 3 hrs tweeti...  \n",
       "1       Positive  jessedee know about fludapp  awesome ipadiphon...  \n",
       "2       Positive  swonderlin can not wait for ipad 2 also they s...  \n",
       "3       Negative  sxsw i hope this years festival isnt as crashy...  \n",
       "4       Positive  sxtxstate great stuff on fri sxsw marissa maye...  \n",
       "...          ...                                                ...  \n",
       "9088    Positive                          ipad everywhere sxsw link  \n",
       "9089  No emotion  wave buzz rt mention we interrupt your regular...  \n",
       "9090  No emotion  googles zeiger a physician never reported pote...  \n",
       "9091  No emotion  some verizon iphone customers complained their...  \n",
       "9092  No emotion  ï¡ïàüêîò£áââ£âûârt ment...  \n",
       "\n",
       "[9070 rows x 4 columns]"
      ]
     },
     "execution_count": 10,
     "metadata": {},
     "output_type": "execute_result"
    }
   ],
   "source": [
    "# Define preprocess_text function\n",
    "def preprocess_text(df):\n",
    "    df['cleaned_tweet'] = df['tweet'].apply(lambda x: re.sub(f'[{string.punctuation}]', '', x.lower()))\n",
    "    # df['user_name'] = df['cleaned_tweet'].apply(lambda x: x.split()[0] if x else '')\n",
    "    # df['cleaned_tweet'] = df['cleaned_tweet'].apply(lambda x: ' '.join(x.split()[1:]) if x else '')\n",
    "    return df\n",
    "preprocess_text(df)"
   ]
  },
  {
   "cell_type": "code",
   "execution_count": 11,
   "id": "aaf3258f-c064-4389-a2e2-6e420e47fe9c",
   "metadata": {},
   "outputs": [],
   "source": [
    "# Vectorize text data\n",
    "vectorizer = TfidfVectorizer(stop_words='english', max_df=0.7)\n",
    "X = vectorizer.fit_transform(df['cleaned_tweet'])\n",
    "y = df['sentiment']"
   ]
  },
  {
   "cell_type": "code",
   "execution_count": 13,
   "id": "8dc83b40-5dc2-4a0c-8c38-a011c7422512",
   "metadata": {},
   "outputs": [],
   "source": [
    "# Split data into training and test sets\n",
    "X_train, X_test, y_train, y_test = train_test_split(X, y, test_size=0.2, random_state=42)\n"
   ]
  },
  {
   "cell_type": "code",
   "execution_count": 14,
   "id": "c0128b5a-cf13-4c27-9ef8-62875ace9b34",
   "metadata": {},
   "outputs": [],
   "source": [
    "# Train Naive Bayes model\n",
    "nb_model = MultinomialNB()\n",
    "nb_model.fit(X_train, y_train)\n",
    "y_pred_nb = nb_model.predict(X_test)\n",
    "y_proba_nb = nb_model.predict_proba(X_test)"
   ]
  },
  {
   "cell_type": "code",
   "execution_count": 15,
   "id": "c8a87606-e02d-4e42-bca3-71e23713b7e8",
   "metadata": {},
   "outputs": [
    {
     "name": "stdout",
     "output_type": "stream",
     "text": [
      "Naive Bayes Classifier Evaluation:\n",
      "Accuracy: 0.6620727673649394\n",
      "Confusion Matrix:\n",
      " [[   0    0   28    5]\n",
      " [   0    2   88   29]\n",
      " [   0    0 1033   73]\n",
      " [   0    0  390  166]]\n",
      "Classification Report:\n",
      "               precision    recall  f1-score   support\n",
      "\n",
      "     Invalid       0.00      0.00      0.00        33\n",
      "    Negative       1.00      0.02      0.03       119\n",
      "  No emotion       0.67      0.93      0.78      1106\n",
      "    Positive       0.61      0.30      0.40       556\n",
      "\n",
      "    accuracy                           0.66      1814\n",
      "   macro avg       0.57      0.31      0.30      1814\n",
      "weighted avg       0.66      0.66      0.60      1814\n",
      "\n"
     ]
    },
    {
     "name": "stderr",
     "output_type": "stream",
     "text": [
      "C:\\Users\\Admin\\anaconda5\\Lib\\site-packages\\sklearn\\metrics\\_classification.py:1344: UndefinedMetricWarning: Precision and F-score are ill-defined and being set to 0.0 in labels with no predicted samples. Use `zero_division` parameter to control this behavior.\n",
      "  _warn_prf(average, modifier, msg_start, len(result))\n",
      "C:\\Users\\Admin\\anaconda5\\Lib\\site-packages\\sklearn\\metrics\\_classification.py:1344: UndefinedMetricWarning: Precision and F-score are ill-defined and being set to 0.0 in labels with no predicted samples. Use `zero_division` parameter to control this behavior.\n",
      "  _warn_prf(average, modifier, msg_start, len(result))\n",
      "C:\\Users\\Admin\\anaconda5\\Lib\\site-packages\\sklearn\\metrics\\_classification.py:1344: UndefinedMetricWarning: Precision and F-score are ill-defined and being set to 0.0 in labels with no predicted samples. Use `zero_division` parameter to control this behavior.\n",
      "  _warn_prf(average, modifier, msg_start, len(result))\n"
     ]
    }
   ],
   "source": [
    "# Evaluate models\n",
    "print(\"Naive Bayes Classifier Evaluation:\")\n",
    "print(f\"Accuracy: {accuracy_score(y_test, y_pred_nb)}\")\n",
    "print(f\"Confusion Matrix:\\n {confusion_matrix(y_test, y_pred_nb)}\")\n",
    "print(f\"Classification Report:\\n {classification_report(y_test, y_pred_nb)}\")"
   ]
  },
  {
   "cell_type": "markdown",
   "id": "3514a1d2-8235-4212-b848-5721b687aacd",
   "metadata": {},
   "source": [
    ">The overall accuracy of the model is 0.662, indicating that it correctly predicts the class label for approximately 66.2% of the test instances.\n",
    ">\n",
    ">The confusion matrix reveals the distribution of correct and incorrect predictions across different classes.\n",
    "The diagonal elements represent correct predictions, while off-diagonal elements indicate incorrect predictions.\n",
    "In this case, the model seems to be performing well for the \"No emotion\" class but struggles with the \"Invalid\" and \"Negative\" classes.\n",
    "\n"
   ]
  },
  {
   "cell_type": "code",
   "execution_count": 16,
   "id": "893ebe9d-e85b-4910-b160-ee0bbd48b8e4",
   "metadata": {},
   "outputs": [],
   "source": [
    "# Train SVC model\n",
    "svc_model = LinearSVC()\n",
    "svc_model.fit(X_train, y_train)\n",
    "y_pred_svc = svc_model.predict(X_test)\n",
    "y_scores_svc = svc_model.decision_function(X_test)"
   ]
  },
  {
   "cell_type": "code",
   "execution_count": 17,
   "id": "9f15e4f9-5c3d-45e2-8a7c-07a478de6b32",
   "metadata": {},
   "outputs": [
    {
     "name": "stdout",
     "output_type": "stream",
     "text": [
      "Support Vector Classifier Evaluation:\n",
      "Accuracy: 0.6957001102535832\n",
      "Confusion Matrix:\n",
      " [[  2   1  19  11]\n",
      " [  1  34  51  33]\n",
      " [  3  16 910 177]\n",
      " [  1   4 235 316]]\n",
      "Classification Report:\n",
      "               precision    recall  f1-score   support\n",
      "\n",
      "     Invalid       0.29      0.06      0.10        33\n",
      "    Negative       0.62      0.29      0.39       119\n",
      "  No emotion       0.75      0.82      0.78      1106\n",
      "    Positive       0.59      0.57      0.58       556\n",
      "\n",
      "    accuracy                           0.70      1814\n",
      "   macro avg       0.56      0.43      0.46      1814\n",
      "weighted avg       0.68      0.70      0.68      1814\n",
      "\n"
     ]
    }
   ],
   "source": [
    "print(\"Support Vector Classifier Evaluation:\")\n",
    "print(f\"Accuracy: {accuracy_score(y_test, y_pred_svc)}\")\n",
    "print(f\"Confusion Matrix:\\n {confusion_matrix(y_test, y_pred_svc)}\")\n",
    "print(f\"Classification Report:\\n {classification_report(y_test, y_pred_svc)}\")"
   ]
  },
  {
   "cell_type": "markdown",
   "id": "9399795d-789a-49ea-a2a6-a9a66da9a098",
   "metadata": {},
   "source": [
    ">The overall accuracy of the model is approximately 69.6%, indicating that it correctly predicts the class label for about 69.6% of the test instances.\n",
    ">\n",
    ">\n",
    "\n"
   ]
  },
  {
   "cell_type": "code",
   "execution_count": 18,
   "id": "85bc5243-43de-4d76-b856-a87eebe20414",
   "metadata": {},
   "outputs": [
    {
     "name": "stderr",
     "output_type": "stream",
     "text": [
      "C:\\Users\\Admin\\anaconda5\\Lib\\site-packages\\sklearn\\metrics\\_ranking.py:1029: UndefinedMetricWarning: No positive samples in y_true, true positive value should be meaningless\n",
      "  warnings.warn(\n",
      "C:\\Users\\Admin\\anaconda5\\Lib\\site-packages\\sklearn\\metrics\\_ranking.py:1029: UndefinedMetricWarning: No positive samples in y_true, true positive value should be meaningless\n",
      "  warnings.warn(\n"
     ]
    },
    {
     "data": {
      "image/png": "[encoded data removed]",
      "text/plain": [
       "<Figure size 1500x1000 with 1 Axes>"
      ]
     },
     "metadata": {},
     "output_type": "display_data"
    }
   ],
   "source": [
    "# Plot ROC Curves\n",
    "y_test_bin = label_binarize(y_test, classes=['Negative', 'Neutral', 'Positive'])\n",
    "n_classes = y_test_bin.shape[1]\n",
    "\n",
    "fpr_nb = dict()\n",
    "tpr_nb = dict()\n",
    "roc_auc_nb = dict()\n",
    "for i in range(n_classes):\n",
    "    fpr_nb[i], tpr_nb[i], _ = roc_curve(y_test_bin[:, i], y_proba_nb[:, i])\n",
    "    roc_auc_nb[i] = auc(fpr_nb[i], tpr_nb[i])\n",
    "\n",
    "fpr_svc = dict()\n",
    "tpr_svc = dict()\n",
    "roc_auc_svc = dict()\n",
    "for i in range(n_classes):\n",
    "    fpr_svc[i], tpr_svc[i], _ = roc_curve(y_test_bin[:, i], y_scores_svc[:, i])\n",
    "    roc_auc_svc[i] = auc(fpr_svc[i], tpr_svc[i])\n",
    "\n",
    "plt.figure(figsize=(15, 10))\n",
    "colors = ['aqua', 'darkorange', 'cornflowerblue']\n",
    "for i in range(n_classes):\n",
    "    plt.plot(fpr_nb[i], tpr_nb[i], color=colors[i], lw=2, linestyle='--',\n",
    "             label=f'Naive Bayes ROC curve (area = {roc_auc_nb[i]:0.2f}) for class {i}')\n",
    "    plt.plot(fpr_svc[i], tpr_svc[i], color=colors[i], lw=2,\n",
    "             label=f'SVC ROC curve (area = {roc_auc_svc[i]:0.2f}) for class {i}')\n",
    "\n",
    "plt.plot([0, 1], [0, 1], 'k--', lw=2)\n",
    "plt.xlim([0.0, 1.0])\n",
    "plt.ylim([0.0, 1.05])\n",
    "plt.xlabel('False Positive Rate')\n",
    "plt.ylabel('True Positive Rate')\n",
    "plt.title('ROC Curve Comparison - Naive Bayes vs SVC')\n",
    "plt.legend(loc=\"lower right\")\n",
    "plt.show()"
   ]
  },
  {
   "cell_type": "markdown",
   "id": "a49f7fd8-d3ce-40b2-b6ff-bbb4f517798c",
   "metadata": {},
   "source": [
    ">The ROC curves for class 2 is skewed towards the bottom left corner, indicating potential class imbalance issues.\n",
    ">\n",
    ">The SVC model appears to outperform the Naive Bayes model for most classes, as indicated by the higher AUC values and generally steeper ROC curves.\n",
    ">\n",
    ">"
   ]
  },
  {
   "cell_type": "code",
   "execution_count": 19,
   "id": "408e8298-8d31-4b8b-8408-fb2a61f89ad4",
   "metadata": {},
   "outputs": [
    {
     "name": "stdout",
     "output_type": "stream",
     "text": [
      "                                               tweet predicted_sentiment\n",
      "0          I love my new iPhone! It works perfectly.            Positive\n",
      "1              My Google Pixel phone keeps crashing.            Positive\n",
      "2        The battery life on my new iPad is amazing.            Positive\n",
      "3          The Android OS is too complicated for me.          No emotion\n",
      "4              Apple customer service is so helpful!            Positive\n",
      "5  I am disappointed with the performance of my G...            Positive\n",
      "6            This new iPhone update is really buggy.            Negative\n",
      "7    The design of the new iPad is sleek and modern.            Positive\n"
     ]
    }
   ],
   "source": [
    "# Load new data\n",
    "new_data = pd.read_csv('sample_new_tweets.csv') \n",
    "\n",
    "# Preprocess the new data\n",
    "new_data = preprocess_text(new_data)\n",
    "new_data['cleaned_tweet'] = new_data['cleaned_tweet']\n",
    "\n",
    "# Vectorize the new data using the same vectorizer\n",
    "new_data_tfidf = vectorizer.transform(new_data['cleaned_tweet'])\n",
    "\n",
    "# Predict sentiments using the selected model (SVC)\n",
    "new_data['predicted_sentiment'] = svc_model.predict(new_data_tfidf)\n",
    "\n",
    "# Display the predictions\n",
    "print(new_data[['tweet', 'predicted_sentiment']])"
   ]
  },
  {
   "cell_type": "code",
   "execution_count": null,
   "id": "9e66b7b2-ea25-4eb7-96d4-0db197a1caf3",
   "metadata": {},
   "outputs": [],
   "source": []
  }
 ],
 "metadata": {
  "kernelspec": {
   "display_name": "Python 3 (ipykernel)",
   "language": "python",
   "name": "python3"
  },
  "language_info": {
   "codemirror_mode": {
    "name": "ipython",
    "version": 3
   },
   "file_extension": ".py",
   "mimetype": "text/x-python",
   "name": "python",
   "nbconvert_exporter": "python",
   "pygments_lexer": "ipython3",
   "version": "3.11.7"
  }
 },
 "nbformat": 4,
 "nbformat_minor": 5
}
