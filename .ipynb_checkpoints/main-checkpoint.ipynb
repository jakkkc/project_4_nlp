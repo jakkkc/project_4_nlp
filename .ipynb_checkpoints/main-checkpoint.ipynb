{
 "cells": [
  {
   "cell_type": "markdown",
   "metadata": {},
   "source": [

    "<center><h1> Natural Language Processing Project </h1></center>\n"
   ]
  },
  {
   "cell_type": "markdown",
   "metadata": {},
   "source": [
    "Data Science & Machine Learning\n",
    "\n",
    "\n",
    "**Contributors**\n",
    "- Lynette Wangari - \n",

    "- Jackson Munene - jacmwaniki@gmail.com\n",
    "- Julius Kinyua - juliusczar36@gmail.com\n",
    "- Phillip Oluoch - "
   ]
  },
  {
   "cell_type": "markdown",
   "metadata": {},
   "source": [
    "## Business Undestanding"
   ]
  },
  {
   "cell_type": "markdown",
   "metadata": {},
   "source": [
    "## Data Understanding"
   ]
  }
 ],
 "metadata": {
  "kernelspec": {

   "display_name": "Python 3",
   "language": "python",
   "name": "python3"
  },
  "language_info": {
   "codemirror_mode": {
    "name": "ipython",
    "version": 3
   },
   "file_extension": ".py",
   "mimetype": "text/x-python",
   "name": "python",
   "nbconvert_exporter": "python",
   "pygments_lexer": "ipython3",

   "version": "3.8.5"
  }
 },
 "nbformat": 4,
 "nbformat_minor": 4
}
